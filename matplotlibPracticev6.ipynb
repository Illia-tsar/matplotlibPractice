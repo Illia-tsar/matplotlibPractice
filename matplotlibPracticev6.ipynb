{
 "cells": [
  {
   "cell_type": "code",
   "execution_count": 1,
   "id": "30d21e41",
   "metadata": {},
   "outputs": [],
   "source": [
    "import pandas as pd\n",
    "from matplotlib import pyplot as plt\n",
    "from matplotlib import dates"
   ]
  },
  {
   "cell_type": "code",
   "execution_count": 2,
   "id": "1ea4845f",
   "metadata": {},
   "outputs": [
    {
     "data": {
      "text/html": [
       "<div>\n",
       "<style scoped>\n",
       "    .dataframe tbody tr th:only-of-type {\n",
       "        vertical-align: middle;\n",
       "    }\n",
       "\n",
       "    .dataframe tbody tr th {\n",
       "        vertical-align: top;\n",
       "    }\n",
       "\n",
       "    .dataframe thead th {\n",
       "        text-align: right;\n",
       "    }\n",
       "</style>\n",
       "<table border=\"1\" class=\"dataframe\">\n",
       "  <thead>\n",
       "    <tr style=\"text-align: right;\">\n",
       "      <th></th>\n",
       "      <th>Date</th>\n",
       "      <th>Open</th>\n",
       "      <th>High</th>\n",
       "      <th>Low</th>\n",
       "      <th>Close</th>\n",
       "      <th>Adj Close</th>\n",
       "      <th>Volume</th>\n",
       "    </tr>\n",
       "  </thead>\n",
       "  <tbody>\n",
       "    <tr>\n",
       "      <th>9</th>\n",
       "      <td>2019-05-27</td>\n",
       "      <td>8785.169922</td>\n",
       "      <td>8818.709961</td>\n",
       "      <td>8562.200195</td>\n",
       "      <td>8718.849609</td>\n",
       "      <td>8718.849609</td>\n",
       "      <td>360752199</td>\n",
       "    </tr>\n",
       "    <tr>\n",
       "      <th>10</th>\n",
       "      <td>2019-05-28</td>\n",
       "      <td>8718.849609</td>\n",
       "      <td>8760.480469</td>\n",
       "      <td>8444.099609</td>\n",
       "      <td>8664.559570</td>\n",
       "      <td>8664.559570</td>\n",
       "      <td>380343928</td>\n",
       "    </tr>\n",
       "    <tr>\n",
       "      <th>11</th>\n",
       "      <td>2019-05-29</td>\n",
       "      <td>8664.559570</td>\n",
       "      <td>9065.889648</td>\n",
       "      <td>8027.209961</td>\n",
       "      <td>8276.250000</td>\n",
       "      <td>8276.250000</td>\n",
       "      <td>815525590</td>\n",
       "    </tr>\n",
       "    <tr>\n",
       "      <th>12</th>\n",
       "      <td>2019-05-30</td>\n",
       "      <td>8276.250000</td>\n",
       "      <td>8570.780273</td>\n",
       "      <td>8116.000000</td>\n",
       "      <td>8560.080078</td>\n",
       "      <td>8560.080078</td>\n",
       "      <td>500141087</td>\n",
       "    </tr>\n",
       "    <tr>\n",
       "      <th>13</th>\n",
       "      <td>2019-05-31</td>\n",
       "      <td>8550.629883</td>\n",
       "      <td>8576.339844</td>\n",
       "      <td>8459.650391</td>\n",
       "      <td>8504.980469</td>\n",
       "      <td>8504.980469</td>\n",
       "      <td>69915456</td>\n",
       "    </tr>\n",
       "  </tbody>\n",
       "</table>\n",
       "</div>"
      ],
      "text/plain": [
       "          Date         Open         High          Low        Close  \\\n",
       "9   2019-05-27  8785.169922  8818.709961  8562.200195  8718.849609   \n",
       "10  2019-05-28  8718.849609  8760.480469  8444.099609  8664.559570   \n",
       "11  2019-05-29  8664.559570  9065.889648  8027.209961  8276.250000   \n",
       "12  2019-05-30  8276.250000  8570.780273  8116.000000  8560.080078   \n",
       "13  2019-05-31  8550.629883  8576.339844  8459.650391  8504.980469   \n",
       "\n",
       "      Adj Close     Volume  \n",
       "9   8718.849609  360752199  \n",
       "10  8664.559570  380343928  \n",
       "11  8276.250000  815525590  \n",
       "12  8560.080078  500141087  \n",
       "13  8504.980469   69915456  "
      ]
     },
     "execution_count": 2,
     "metadata": {},
     "output_type": "execute_result"
    }
   ],
   "source": [
    "data = pd.read_csv('data.csv')\n",
    "data.tail()"
   ]
  },
  {
   "cell_type": "code",
   "execution_count": 3,
   "id": "9d47e839",
   "metadata": {
    "scrolled": true
   },
   "outputs": [
    {
     "data": {
      "text/plain": [
       "dtype('O')"
      ]
     },
     "execution_count": 3,
     "metadata": {},
     "output_type": "execute_result"
    }
   ],
   "source": [
    "data.Date.dtype"
   ]
  },
  {
   "cell_type": "code",
   "execution_count": 4,
   "id": "c1a36d71",
   "metadata": {},
   "outputs": [
    {
     "data": {
      "text/html": [
       "<div>\n",
       "<style scoped>\n",
       "    .dataframe tbody tr th:only-of-type {\n",
       "        vertical-align: middle;\n",
       "    }\n",
       "\n",
       "    .dataframe tbody tr th {\n",
       "        vertical-align: top;\n",
       "    }\n",
       "\n",
       "    .dataframe thead th {\n",
       "        text-align: right;\n",
       "    }\n",
       "</style>\n",
       "<table border=\"1\" class=\"dataframe\">\n",
       "  <thead>\n",
       "    <tr style=\"text-align: right;\">\n",
       "      <th></th>\n",
       "      <th>Date</th>\n",
       "      <th>Open</th>\n",
       "      <th>High</th>\n",
       "      <th>Low</th>\n",
       "      <th>Close</th>\n",
       "      <th>Adj Close</th>\n",
       "      <th>Volume</th>\n",
       "    </tr>\n",
       "  </thead>\n",
       "  <tbody>\n",
       "    <tr>\n",
       "      <th>0</th>\n",
       "      <td>2019-05-18</td>\n",
       "      <td>7266.080078</td>\n",
       "      <td>8281.660156</td>\n",
       "      <td>7257.259766</td>\n",
       "      <td>8193.139648</td>\n",
       "      <td>8193.139648</td>\n",
       "      <td>723011166</td>\n",
       "    </tr>\n",
       "    <tr>\n",
       "      <th>1</th>\n",
       "      <td>2019-05-19</td>\n",
       "      <td>8193.139648</td>\n",
       "      <td>8193.139648</td>\n",
       "      <td>7591.850098</td>\n",
       "      <td>7998.290039</td>\n",
       "      <td>7998.290039</td>\n",
       "      <td>637617163</td>\n",
       "    </tr>\n",
       "    <tr>\n",
       "      <th>2</th>\n",
       "      <td>2019-05-20</td>\n",
       "      <td>7998.290039</td>\n",
       "      <td>8102.319824</td>\n",
       "      <td>7807.770020</td>\n",
       "      <td>7947.930176</td>\n",
       "      <td>7947.930176</td>\n",
       "      <td>357803946</td>\n",
       "    </tr>\n",
       "    <tr>\n",
       "      <th>3</th>\n",
       "      <td>2019-05-21</td>\n",
       "      <td>7947.930176</td>\n",
       "      <td>8033.759766</td>\n",
       "      <td>7533.660156</td>\n",
       "      <td>7626.890137</td>\n",
       "      <td>7626.890137</td>\n",
       "      <td>424501866</td>\n",
       "    </tr>\n",
       "    <tr>\n",
       "      <th>4</th>\n",
       "      <td>2019-05-22</td>\n",
       "      <td>7626.890137</td>\n",
       "      <td>7971.259766</td>\n",
       "      <td>7478.740234</td>\n",
       "      <td>7876.500000</td>\n",
       "      <td>7876.500000</td>\n",
       "      <td>386766321</td>\n",
       "    </tr>\n",
       "  </tbody>\n",
       "</table>\n",
       "</div>"
      ],
      "text/plain": [
       "        Date         Open         High          Low        Close    Adj Close  \\\n",
       "0 2019-05-18  7266.080078  8281.660156  7257.259766  8193.139648  8193.139648   \n",
       "1 2019-05-19  8193.139648  8193.139648  7591.850098  7998.290039  7998.290039   \n",
       "2 2019-05-20  7998.290039  8102.319824  7807.770020  7947.930176  7947.930176   \n",
       "3 2019-05-21  7947.930176  8033.759766  7533.660156  7626.890137  7626.890137   \n",
       "4 2019-05-22  7626.890137  7971.259766  7478.740234  7876.500000  7876.500000   \n",
       "\n",
       "      Volume  \n",
       "0  723011166  \n",
       "1  637617163  \n",
       "2  357803946  \n",
       "3  424501866  \n",
       "4  386766321  "
      ]
     },
     "execution_count": 4,
     "metadata": {},
     "output_type": "execute_result"
    }
   ],
   "source": [
    "data['Date'] = pd.to_datetime(data['Date'])\n",
    "data.sort_values(by=['Date'], ascending=True, inplace=True)\n",
    "data.head()"
   ]
  },
  {
   "cell_type": "code",
   "execution_count": 5,
   "id": "52129d8a",
   "metadata": {},
   "outputs": [
    {
     "data": {
      "text/plain": [
       "dtype('<M8[ns]')"
      ]
     },
     "execution_count": 5,
     "metadata": {},
     "output_type": "execute_result"
    }
   ],
   "source": [
    "data.Date.dtype"
   ]
  },
  {
   "cell_type": "code",
   "execution_count": 45,
   "id": "f2f7f224",
   "metadata": {},
   "outputs": [
    {
     "data": {
      "image/png": "[encoded data removed]",
      "text/plain": [
       "<Figure size 640x440 with 1 Axes>"
      ]
     },
     "metadata": {},
     "output_type": "display_data"
    }
   ],
   "source": [
    "plt.style.use('seaborn')\n",
    "\n",
    "plt.plot_date(data['Date'], data['Close'], color='green', linestyle='-', linewidth=1.75, \n",
    "              marker='o', markersize=8.5, markerfacecolor='darkgreen')\n",
    "\n",
    "plt.gcf().autofmt_xdate()\n",
    "# date_formatter = dates.DateFormatter('%b, %d %Y') is used to display date in format: Month, Day Year\n",
    "# plt.gca().xaxis.set_major_formatter(date_formatter) is used to setup the above formatter for dates in x axis\n",
    "\n",
    "plt.title('Close vs Date')\n",
    "plt.xlabel('Date')\n",
    "plt.ylabel('Close')\n",
    "\n",
    "plt.tight_layout()\n"
   ]
  }
 ],
 "metadata": {
  "kernelspec": {
   "display_name": "Python 3",
   "language": "python",
   "name": "python3"
  },
  "language_info": {
   "codemirror_mode": {
    "name": "ipython",
    "version": 3
   },
   "file_extension": ".py",
   "mimetype": "text/x-python",
   "name": "python",
   "nbconvert_exporter": "python",
   "pygments_lexer": "ipython3",
   "version": "3.8.5"
  }
 },
 "nbformat": 4,
 "nbformat_minor": 5
}
