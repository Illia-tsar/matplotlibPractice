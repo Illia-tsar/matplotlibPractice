{
 "cells": [
  {
   "cell_type": "code",
   "execution_count": 1,
   "id": "302f1e16",
   "metadata": {},
   "outputs": [],
   "source": [
    "import numpy as np\n",
    "import pandas as pd\n",
    "from matplotlib import pyplot as plt\n",
    "from collections import Counter"
   ]
  },
  {
   "cell_type": "code",
   "execution_count": 3,
   "id": "586a1f70",
   "metadata": {},
   "outputs": [
    {
     "data": {
      "text/html": [
       "<div>\n",
       "<style scoped>\n",
       "    .dataframe tbody tr th:only-of-type {\n",
       "        vertical-align: middle;\n",
       "    }\n",
       "\n",
       "    .dataframe tbody tr th {\n",
       "        vertical-align: top;\n",
       "    }\n",
       "\n",
       "    .dataframe thead th {\n",
       "        text-align: right;\n",
       "    }\n",
       "</style>\n",
       "<table border=\"1\" class=\"dataframe\">\n",
       "  <thead>\n",
       "    <tr style=\"text-align: right;\">\n",
       "      <th></th>\n",
       "      <th>Responder_id</th>\n",
       "      <th>LanguagesWorkedWith</th>\n",
       "    </tr>\n",
       "  </thead>\n",
       "  <tbody>\n",
       "    <tr>\n",
       "      <th>0</th>\n",
       "      <td>1</td>\n",
       "      <td>HTML/CSS;Java;JavaScript;Python</td>\n",
       "    </tr>\n",
       "    <tr>\n",
       "      <th>1</th>\n",
       "      <td>2</td>\n",
       "      <td>C++;HTML/CSS;Python</td>\n",
       "    </tr>\n",
       "    <tr>\n",
       "      <th>2</th>\n",
       "      <td>3</td>\n",
       "      <td>HTML/CSS</td>\n",
       "    </tr>\n",
       "    <tr>\n",
       "      <th>3</th>\n",
       "      <td>4</td>\n",
       "      <td>C;C++;C#;Python;SQL</td>\n",
       "    </tr>\n",
       "    <tr>\n",
       "      <th>4</th>\n",
       "      <td>5</td>\n",
       "      <td>C++;HTML/CSS;Java;JavaScript;Python;SQL;VBA</td>\n",
       "    </tr>\n",
       "    <tr>\n",
       "      <th>5</th>\n",
       "      <td>6</td>\n",
       "      <td>Java;R;SQL</td>\n",
       "    </tr>\n",
       "    <tr>\n",
       "      <th>6</th>\n",
       "      <td>7</td>\n",
       "      <td>HTML/CSS;JavaScript</td>\n",
       "    </tr>\n",
       "    <tr>\n",
       "      <th>7</th>\n",
       "      <td>8</td>\n",
       "      <td>Bash/Shell/PowerShell;C;C++;HTML/CSS;Java;Java...</td>\n",
       "    </tr>\n",
       "    <tr>\n",
       "      <th>8</th>\n",
       "      <td>9</td>\n",
       "      <td>Bash/Shell/PowerShell;C#;HTML/CSS;JavaScript;P...</td>\n",
       "    </tr>\n",
       "    <tr>\n",
       "      <th>9</th>\n",
       "      <td>10</td>\n",
       "      <td>C#;Go;JavaScript;Python;R;SQL</td>\n",
       "    </tr>\n",
       "  </tbody>\n",
       "</table>\n",
       "</div>"
      ],
      "text/plain": [
       "   Responder_id                                LanguagesWorkedWith\n",
       "0             1                    HTML/CSS;Java;JavaScript;Python\n",
       "1             2                                C++;HTML/CSS;Python\n",
       "2             3                                           HTML/CSS\n",
       "3             4                                C;C++;C#;Python;SQL\n",
       "4             5        C++;HTML/CSS;Java;JavaScript;Python;SQL;VBA\n",
       "5             6                                         Java;R;SQL\n",
       "6             7                                HTML/CSS;JavaScript\n",
       "7             8  Bash/Shell/PowerShell;C;C++;HTML/CSS;Java;Java...\n",
       "8             9  Bash/Shell/PowerShell;C#;HTML/CSS;JavaScript;P...\n",
       "9            10                      C#;Go;JavaScript;Python;R;SQL"
      ]
     },
     "execution_count": 3,
     "metadata": {},
     "output_type": "execute_result"
    }
   ],
   "source": [
    "data = pd.read_csv('/home/linups/data.csv')\n",
    "data.head(10)"
   ]
  },
  {
   "cell_type": "code",
   "execution_count": 4,
   "id": "b3eb7d5c",
   "metadata": {},
   "outputs": [
    {
     "data": {
      "text/plain": [
       "[('JavaScript', 59219),\n",
       " ('HTML/CSS', 55466),\n",
       " ('SQL', 47544),\n",
       " ('Python', 36443),\n",
       " ('Java', 35917),\n",
       " ('Bash/Shell/PowerShell', 31991),\n",
       " ('C#', 27097),\n",
       " ('PHP', 23030),\n",
       " ('C++', 20524),\n",
       " ('TypeScript', 18523)]"
      ]
     },
     "execution_count": 4,
     "metadata": {},
     "output_type": "execute_result"
    }
   ],
   "source": [
    "lang_counter = Counter()\n",
    "\n",
    "lang_responses = data['LanguagesWorkedWith']\n",
    "\n",
    "for response in lang_responses:\n",
    "    lang_counter.update(response.split(';'))\n",
    "\n",
    "lang_counter.most_common(10)"
   ]
  },
  {
   "cell_type": "code",
   "execution_count": 6,
   "id": "34d25fe5",
   "metadata": {},
   "outputs": [
    {
     "name": "stdout",
     "output_type": "stream",
     "text": [
      "['JavaScript', 'HTML/CSS', 'SQL', 'Python', 'Java', 'Bash/Shell/PowerShell', 'C#', 'PHP', 'C++', 'TypeScript']\n",
      "[59219, 55466, 47544, 36443, 35917, 31991, 27097, 23030, 20524, 18523]\n"
     ]
    }
   ],
   "source": [
    "language = []\n",
    "popularity = []\n",
    "\n",
    "for item in lang_counter.most_common(10):\n",
    "    language.append(item[0])\n",
    "    popularity.append(item[1])\n",
    "\n",
    "print(language)\n",
    "print(popularity)"
   ]
  },
  {
   "cell_type": "code",
   "execution_count": 14,
   "id": "0f68dd5a",
   "metadata": {},
   "outputs": [
    {
     "data": {
      "image/png": "[encoded data removed]",
      "text/plain": [
       "<Figure size 432x288 with 1 Axes>"
      ]
     },
     "metadata": {},
     "output_type": "display_data"
    }
   ],
   "source": [
    "language.reverse()\n",
    "popularity.reverse()\n",
    "\n",
    "plt.style.use('fivethirtyeight')\n",
    "plt.barh(language, popularity)\n",
    "\n",
    "plt.title('Lang Popularity')\n",
    "plt.xlabel('Popularity(Survey)')\n",
    "\n",
    "plt.grid(True)\n",
    "#plt.tight_layout()"
   ]
  },
  {
   "cell_type": "code",
   "execution_count": 9,
   "id": "e67b2beb",
   "metadata": {},
   "outputs": [
    {
     "data": {
      "text/plain": [
       "['Solarize_Light2',\n",
       " '_classic_test_patch',\n",
       " 'bmh',\n",
       " 'classic',\n",
       " 'dark_background',\n",
       " 'fast',\n",
       " 'fivethirtyeight',\n",
       " 'ggplot',\n",
       " 'grayscale',\n",
       " 'seaborn',\n",
       " 'seaborn-bright',\n",
       " 'seaborn-colorblind',\n",
       " 'seaborn-dark',\n",
       " 'seaborn-dark-palette',\n",
       " 'seaborn-darkgrid',\n",
       " 'seaborn-deep',\n",
       " 'seaborn-muted',\n",
       " 'seaborn-notebook',\n",
       " 'seaborn-paper',\n",
       " 'seaborn-pastel',\n",
       " 'seaborn-poster',\n",
       " 'seaborn-talk',\n",
       " 'seaborn-ticks',\n",
       " 'seaborn-white',\n",
       " 'seaborn-whitegrid',\n",
       " 'tableau-colorblind10']"
      ]
     },
     "execution_count": 9,
     "metadata": {},
     "output_type": "execute_result"
    }
   ],
   "source": [
    "plt.style.available"
   ]
  },
  {
   "cell_type": "code",
   "execution_count": 2,
   "id": "49a38c46",
   "metadata": {},
   "outputs": [],
   "source": [
    "maxTempRichmond = [19.6, 18.4, 20.5, 20.3, 25.2, 19.7, 23.2, 22.6, 23.0, 21.2]\n",
    "evaporationRichmond = [4.3, 13.6,  1.6,  2.0,  1.0, 13.1,  1.0,  3.3,  3.4,  4.0]\n",
    "evaporationCobar = [12.0, 14.8, 12.6, 10.8, 11.4, 11.2, 13.0,  9.8, 14.6, 12.0]"
   ]
  },
  {
   "cell_type": "code",
   "execution_count": 5,
   "id": "a5f8d880",
   "metadata": {},
   "outputs": [
    {
     "data": {
      "text/plain": [
       "<matplotlib.legend.Legend at 0x7ff10c3f61f0>"
      ]
     },
     "execution_count": 5,
     "metadata": {},
     "output_type": "execute_result"
    },
    {
     "data": {
      "image/png": "[encoded data removed]",
      "text/plain": [
       "<Figure size 432x288 with 1 Axes>"
      ]
     },
     "metadata": {},
     "output_type": "display_data"
    }
   ],
   "source": [
    "plt.style.use('ggplot')\n",
    "\n",
    "WIDTH = 0.3\n",
    "idx = np.arange(len(maxTempRichmond))\n",
    "\n",
    "plt.bar(idx, evaporationCobar, width=WIDTH, color='darkgreen', edgecolor='black', label='Cobar')\n",
    "plt.bar(idx+WIDTH, evaporationRichmond, width=WIDTH, color='lightpink', edgecolor='darkviolet', label='Richmond')\n",
    "\n",
    "plt.title('Evaporation versus Temperature')\n",
    "plt.xlabel('maxTemperature')\n",
    "plt.ylabel('Evaporation')\n",
    "\n",
    "plt.xticks(ticks=idx, labels=maxTempRichmond)\n",
    "\n",
    "plt.tight_layout()\n",
    "plt.grid(True)\n",
    "plt.legend(loc='upper center')"
   ]
  }
 ],
 "metadata": {
  "kernelspec": {
   "display_name": "Python 3",
   "language": "python",
   "name": "python3"
  },
  "language_info": {
   "codemirror_mode": {
    "name": "ipython",
    "version": 3
   },
   "file_extension": ".py",
   "mimetype": "text/x-python",
   "name": "python",
   "nbconvert_exporter": "python",
   "pygments_lexer": "ipython3",
   "version": "3.8.5"
  }
 },
 "nbformat": 4,
 "nbformat_minor": 5
}
