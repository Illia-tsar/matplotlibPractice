{
 "cells": [
  {
   "cell_type": "code",
   "execution_count": 2,
   "id": "a20c45a6",
   "metadata": {},
   "outputs": [],
   "source": [
    "from matplotlib import pyplot as plt\n",
    "import numpy as np\n",
    "import pandas as pd\n",
    "import warnings\n",
    "from collections import Counter\n",
    "warnings.filterwarnings('ignore')"
   ]
  },
  {
   "cell_type": "code",
   "execution_count": 3,
   "id": "c4a83cb7",
   "metadata": {},
   "outputs": [
    {
     "name": "stdout",
     "output_type": "stream",
     "text": [
      "Data has a shape of: (87569, 2)\n"
     ]
    },
    {
     "data": {
      "text/html": [
       "<div>\n",
       "<style scoped>\n",
       "    .dataframe tbody tr th:only-of-type {\n",
       "        vertical-align: middle;\n",
       "    }\n",
       "\n",
       "    .dataframe tbody tr th {\n",
       "        vertical-align: top;\n",
       "    }\n",
       "\n",
       "    .dataframe thead th {\n",
       "        text-align: right;\n",
       "    }\n",
       "</style>\n",
       "<table border=\"1\" class=\"dataframe\">\n",
       "  <thead>\n",
       "    <tr style=\"text-align: right;\">\n",
       "      <th></th>\n",
       "      <th>Responder_id</th>\n",
       "      <th>LanguagesWorkedWith</th>\n",
       "    </tr>\n",
       "  </thead>\n",
       "  <tbody>\n",
       "    <tr>\n",
       "      <th>87559</th>\n",
       "      <td>86566</td>\n",
       "      <td>Bash/Shell/PowerShell;HTML/CSS;Python;Other(s):</td>\n",
       "    </tr>\n",
       "    <tr>\n",
       "      <th>87560</th>\n",
       "      <td>86638</td>\n",
       "      <td>Assembly;C++;HTML/CSS;VBA</td>\n",
       "    </tr>\n",
       "    <tr>\n",
       "      <th>87561</th>\n",
       "      <td>87352</td>\n",
       "      <td>C;C++;Java</td>\n",
       "    </tr>\n",
       "    <tr>\n",
       "      <th>87562</th>\n",
       "      <td>87386</td>\n",
       "      <td>Assembly;Bash/Shell/PowerShell;C;C#;HTML/CSS;J...</td>\n",
       "    </tr>\n",
       "    <tr>\n",
       "      <th>87563</th>\n",
       "      <td>87739</td>\n",
       "      <td>C;C++;HTML/CSS;JavaScript;PHP;Python;SQL</td>\n",
       "    </tr>\n",
       "    <tr>\n",
       "      <th>87564</th>\n",
       "      <td>88182</td>\n",
       "      <td>HTML/CSS;Java;JavaScript</td>\n",
       "    </tr>\n",
       "    <tr>\n",
       "      <th>87565</th>\n",
       "      <td>88212</td>\n",
       "      <td>HTML/CSS;JavaScript;Python</td>\n",
       "    </tr>\n",
       "    <tr>\n",
       "      <th>87566</th>\n",
       "      <td>88282</td>\n",
       "      <td>Bash/Shell/PowerShell;Go;HTML/CSS;JavaScript;W...</td>\n",
       "    </tr>\n",
       "    <tr>\n",
       "      <th>87567</th>\n",
       "      <td>88377</td>\n",
       "      <td>HTML/CSS;JavaScript;Other(s):</td>\n",
       "    </tr>\n",
       "    <tr>\n",
       "      <th>87568</th>\n",
       "      <td>88863</td>\n",
       "      <td>Bash/Shell/PowerShell;HTML/CSS;Java;JavaScript...</td>\n",
       "    </tr>\n",
       "  </tbody>\n",
       "</table>\n",
       "</div>"
      ],
      "text/plain": [
       "       Responder_id                                LanguagesWorkedWith\n",
       "87559         86566    Bash/Shell/PowerShell;HTML/CSS;Python;Other(s):\n",
       "87560         86638                          Assembly;C++;HTML/CSS;VBA\n",
       "87561         87352                                         C;C++;Java\n",
       "87562         87386  Assembly;Bash/Shell/PowerShell;C;C#;HTML/CSS;J...\n",
       "87563         87739           C;C++;HTML/CSS;JavaScript;PHP;Python;SQL\n",
       "87564         88182                           HTML/CSS;Java;JavaScript\n",
       "87565         88212                         HTML/CSS;JavaScript;Python\n",
       "87566         88282  Bash/Shell/PowerShell;Go;HTML/CSS;JavaScript;W...\n",
       "87567         88377                      HTML/CSS;JavaScript;Other(s):\n",
       "87568         88863  Bash/Shell/PowerShell;HTML/CSS;Java;JavaScript..."
      ]
     },
     "execution_count": 3,
     "metadata": {},
     "output_type": "execute_result"
    }
   ],
   "source": [
    "data = pd.read_csv('/home/linups/data.csv')\n",
    "print(f'Data has a shape of: {data.shape}')\n",
    "data.tail(10)"
   ]
  },
  {
   "cell_type": "code",
   "execution_count": 5,
   "id": "6693bbb0",
   "metadata": {},
   "outputs": [
    {
     "name": "stdout",
     "output_type": "stream",
     "text": [
      "Counter({'JavaScript': 59219, 'HTML/CSS': 55466, 'SQL': 47544, 'Python': 36443, 'Java': 35917, 'Bash/Shell/PowerShell': 31991, 'C#': 27097, 'PHP': 23030, 'C++': 20524, 'TypeScript': 18523, 'C': 18017, 'Other(s):': 7920, 'Ruby': 7331, 'Go': 7201, 'Assembly': 5833, 'Swift': 5744, 'Kotlin': 5620, 'R': 5048, 'VBA': 4781, 'Objective-C': 4191, 'Scala': 3309, 'Rust': 2794, 'Dart': 1683, 'Elixir': 1260, 'Clojure': 1254, 'WebAssembly': 1015, 'F#': 973, 'Erlang': 777})\n"
     ]
    }
   ],
   "source": [
    "lang_worked = data['LanguagesWorkedWith']\n",
    "lang_popularity = Counter()\n",
    "\n",
    "for item in lang_worked:\n",
    "    lang_popularity.update(item.split(';'))\n",
    "\n",
    "print(lang_popularity)"
   ]
  },
  {
   "cell_type": "code",
   "execution_count": 7,
   "id": "91b484c1",
   "metadata": {},
   "outputs": [
    {
     "name": "stdout",
     "output_type": "stream",
     "text": [
      "['JavaScript', 'HTML/CSS', 'SQL', 'Python', 'Java']\n",
      "[59219, 55466, 47544, 36443, 35917]\n"
     ]
    }
   ],
   "source": [
    "languages = []\n",
    "popularity = []\n",
    "\n",
    "for item in lang_popularity.most_common(5):\n",
    "    languages.append(item[0])\n",
    "    popularity.append(item[1])\n",
    "    \n",
    "print(languages)\n",
    "print(popularity)"
   ]
  },
  {
   "cell_type": "code",
   "execution_count": 8,
   "id": "c9ceedf4",
   "metadata": {},
   "outputs": [
    {
     "data": {
      "text/plain": [
       "['Solarize_Light2',\n",
       " '_classic_test_patch',\n",
       " 'bmh',\n",
       " 'classic',\n",
       " 'dark_background',\n",
       " 'fast',\n",
       " 'fivethirtyeight',\n",
       " 'ggplot',\n",
       " 'grayscale',\n",
       " 'seaborn',\n",
       " 'seaborn-bright',\n",
       " 'seaborn-colorblind',\n",
       " 'seaborn-dark',\n",
       " 'seaborn-dark-palette',\n",
       " 'seaborn-darkgrid',\n",
       " 'seaborn-deep',\n",
       " 'seaborn-muted',\n",
       " 'seaborn-notebook',\n",
       " 'seaborn-paper',\n",
       " 'seaborn-pastel',\n",
       " 'seaborn-poster',\n",
       " 'seaborn-talk',\n",
       " 'seaborn-ticks',\n",
       " 'seaborn-white',\n",
       " 'seaborn-whitegrid',\n",
       " 'tableau-colorblind10']"
      ]
     },
     "execution_count": 8,
     "metadata": {},
     "output_type": "execute_result"
    }
   ],
   "source": [
    "plt.style.available"
   ]
  },
  {
   "cell_type": "code",
   "execution_count": 17,
   "id": "04e2f5db",
   "metadata": {},
   "outputs": [
    {
     "data": {
      "image/png": "[encoded data removed]",
      "text/plain": [
       "<Figure size 432x288 with 1 Axes>"
      ]
     },
     "metadata": {},
     "output_type": "display_data"
    }
   ],
   "source": [
    "plt.style.use('fivethirtyeight')\n",
    "\n",
    "colors = ['#E74C3C', '#16A085', '#F1C40F', '#2E4053', '#5B2C6F']\n",
    "\n",
    "explode = np.zeros(len(colors))\n",
    "explode[3] = 0.15\n",
    "\n",
    "plt.pie(popularity, explode=explode, labels=languages, colors=colors, autopct='%1.1f%%', startangle=180, wedgeprops={'edgecolor':'black'}, shadow=True)\n",
    "\n",
    "plt.title('Pie Chart for Programming Languages Popularity')\n",
    "plt.tight_layout()"
   ]
  }
 ],
 "metadata": {
  "kernelspec": {
   "display_name": "Python 3",
   "language": "python",
   "name": "python3"
  },
  "language_info": {
   "codemirror_mode": {
    "name": "ipython",
    "version": 3
   },
   "file_extension": ".py",
   "mimetype": "text/x-python",
   "name": "python",
   "nbconvert_exporter": "python",
   "pygments_lexer": "ipython3",
   "version": "3.8.5"
  }
 },
 "nbformat": 4,
 "nbformat_minor": 5
}
